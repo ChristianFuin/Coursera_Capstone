{
    "cells": [
        {
            "cell_type": "markdown",
            "metadata": {
                "collapsed": true
            },
            "source": "<h1>THE BUSINESS PROBLEM</h1>\n<p>A famous burger joint from America, opened its first shop in London without any research on where the best location to open it was. After 1 year trying to understand why the business was not so successfull in the UK they hired me as a data scientist to try to find where the problem was.</p>\n<p>After data analysis on their database we came to a conclusion that the business was relying too much on visitors from other countries, other than locals, it was a problem as we don't have domain over how many tourists will come to our country. With the coronavirus pandemic, they decided to close for good.</p>\n\n<h3>A new Beginning</h3>\n<p>We had a meeting with the stakeholders and I proposed to them that with machine learning I could find the best location for a new restaurant with scientific evidences that would help it work out for the business. Some of the key points we aggreed an ideal location should have are:</p>\n<ol>\n    <li>As many car parkings as possible</li>\n    <li>Many other business around, as they would attract people to come near the restaurant.</li>\n    <li>Not too much other burger joints, but at least some to have some competition</li>\n    <li>As many business offices as possible around</li>\n</ol>"
        },
        {
            "cell_type": "markdown",
            "metadata": {},
            "source": "<h1>DATA</h1>\n<p>A dataset with all london postcodes and its coordinates from FREEMAPTOOLS will be used along with FOURSQUARE API to colect all the data we need. </p>"
        }
    ],
    "metadata": {
        "kernelspec": {
            "display_name": "Python 3.6",
            "language": "python",
            "name": "python3"
        },
        "language_info": {
            "codemirror_mode": {
                "name": "ipython",
                "version": 3
            },
            "file_extension": ".py",
            "mimetype": "text/x-python",
            "name": "python",
            "nbconvert_exporter": "python",
            "pygments_lexer": "ipython3",
            "version": "3.6.9"
        }
    },
    "nbformat": 4,
    "nbformat_minor": 1
}